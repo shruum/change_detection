{
 "cells": [
  {
   "cell_type": "code",
   "execution_count": 1,
   "metadata": {},
   "outputs": [],
   "source": [
    "import sys\n",
    "sys.path.insert(0, '../../')\n",
    "\n",
    "import os\n",
    "import numpy as np\n",
    "from tqdm import tqdm\n",
    "\n",
    "\n",
    "import torch\n",
    "from torch.utils import data\n",
    "import torchvision.transforms as transform\n",
    "from torch.nn.parallel.scatter_gather import gather\n",
    "\n",
    "import encoding.utils as utils\n",
    "from encoding.nn import SegmentationLosses, SyncBatchNorm\n",
    "from encoding.parallel import DataParallelModel, DataParallelCriterion\n",
    "from encoding_custom.datasets import get_segmentation_dataset, test_batchify_fn\n",
    "from encoding.models import get_model, MultiEvalModule\n",
    "from encoding_custom.models import get_segmentation_model\\\n",
    "\n",
    "import json\n",
    "from experiments.segmentation.option import Options\n",
    "import matplotlib.pyplot as plt\n",
    "import glob\n",
    "from PIL import Image\n",
    "\n",
    "%matplotlib inline"
   ]
  },
  {
   "cell_type": "code",
   "execution_count": 5,
   "metadata": {},
   "outputs": [
    {
     "name": "stdout",
     "output_type": "stream",
     "text": [
      "2000\n"
     ]
    }
   ],
   "source": [
    "test_folder = '/volumes2/cpp/predicts_1024/'\n",
    "tet_folder_gt = '/data/input/datasets/Mapillary_v1.1/validation/labels/'\n",
    "test_labels = glob.glob(os.path.join(tet_folder_gt, '*.png'))\n",
    "num_class = 65\n",
    "print(len(test_labels))"
   ]
  },
  {
   "cell_type": "code",
   "execution_count": 6,
   "metadata": {},
   "outputs": [],
   "source": [
    "def crop(img, factor):\n",
    "    height_crop = (img.shape[0] // factor) * factor\n",
    "    width_crop = (img.shape[1] // factor) * factor\n",
    "\n",
    "    diff_hight = img.shape[0] - height_crop\n",
    "    diff_width = img.shape[1] - width_crop\n",
    "\n",
    "    offset_height = diff_hight // 2\n",
    "    offset_width = diff_width // 2\n",
    "\n",
    "    return img[\n",
    "          offset_height:height_crop + offset_height,\n",
    "          offset_width:width_crop + offset_width]\n",
    "\n"
   ]
  },
  {
   "cell_type": "code",
   "execution_count": 7,
   "metadata": {},
   "outputs": [
    {
     "name": "stderr",
     "output_type": "stream",
     "text": [
      "pixAcc: 0.8927, mIoU: 0.3915: 100%|██████████| 2000/2000 [05:18<00:00,  6.11it/s]\n"
     ]
    }
   ],
   "source": [
    "total_inter, total_union, total_correct, total_label, total_loss = 0, 0, 0, 0, 0\n",
    "tbar = tqdm(test_labels)\n",
    "\n",
    "for label_image in tbar:\n",
    "    im_label = Image.open(label_image)\n",
    "    file_path = os.path.join(test_folder,label_image.split('/')[-1][:-3]+'dat')\n",
    "    assert(os.path.exists(file_path))\n",
    "\n",
    "    predicts_cpp = np.fromfile(file_path, dtype=np.byte, count=im_label.size[0]*im_label.size[1])\n",
    "    predicts_cpp = np.reshape(predicts_cpp, im_label.size[::-1])\n",
    "    \n",
    "    short_size = 1024\n",
    "    w, h = im_label.size\n",
    "    if w > h:\n",
    "        oh = short_size\n",
    "        ow = int(1.0 * w * oh / h)\n",
    "    else:\n",
    "        ow = short_size\n",
    "        oh = int(1.0 * h * ow / w)\n",
    "    \n",
    "    im_label = im_label.resize((ow, oh), Image.NEAREST)\n",
    "\n",
    "    predicts_cpp = Image.fromarray(predicts_cpp)\n",
    "    predicts_cpp = predicts_cpp.resize((ow, oh), Image.NEAREST)\n",
    "\n",
    "    im_label = np.asarray(im_label)\n",
    "    predicts_cpp = np.asarray(predicts_cpp)\n",
    "    \n",
    "    im_label = crop(im_label, 32)\n",
    "    predicts_cpp = crop(predicts_cpp, 32)\n",
    "    \n",
    "    correct, labeled  = utils.metrics.pixel_accuracy(predicts_cpp +1 , im_label + 1)\n",
    "    inter, union = utils.metrics.intersection_and_union(predicts_cpp + 1, im_label + 1, num_class)\n",
    "    \n",
    "    total_inter += inter\n",
    "    total_union += union\n",
    "    total_correct += correct\n",
    "    total_label += labeled\n",
    "    \n",
    "    pixAcc = 1.0 * total_correct / (np.spacing(1) + total_label)\n",
    "    IoU = 1.0 * total_inter / (np.spacing(1) + total_union)\n",
    "    mIoU = IoU.mean()\n",
    "    tbar.set_description( 'pixAcc: %.4f, mIoU: %.4f' % (pixAcc, mIoU))\n"
   ]
  },
  {
   "cell_type": "code",
   "execution_count": null,
   "metadata": {},
   "outputs": [],
   "source": []
  }
 ],
 "metadata": {
  "kernelspec": {
   "display_name": "Python (env_py3_torch_1.1)",
   "language": "python",
   "name": "env_py3_torch_1.1"
  },
  "language_info": {
   "codemirror_mode": {
    "name": "ipython",
    "version": 3
   },
   "file_extension": ".py",
   "mimetype": "text/x-python",
   "name": "python",
   "nbconvert_exporter": "python",
   "pygments_lexer": "ipython3",
   "version": "3.7.3"
  }
 },
 "nbformat": 4,
 "nbformat_minor": 2
}
