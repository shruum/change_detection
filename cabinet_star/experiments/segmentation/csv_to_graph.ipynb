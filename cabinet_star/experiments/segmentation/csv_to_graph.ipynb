{
 "cells": [
  {
   "cell_type": "code",
   "execution_count": 1,
   "metadata": {},
   "outputs": [],
   "source": [
    "#!/usr/bin/env python\n",
    "\n",
    "import matplotlib\n",
    "matplotlib.use('PDF')\n",
    "import matplotlib.pyplot as plt\n",
    "from matplotlib.backends.backend_pdf import PdfPages\n",
    "\n",
    "\n",
    "# Switch to Type 1 Fonts. \n",
    "matplotlib.rcParams['ps.useafm'] = True\n",
    "matplotlib.rcParams['pdf.use14corefonts'] = True\n",
    "matplotlib.rcParams['text.usetex'] = True\n",
    "\n",
    "import numpy as np\n",
    "import pandas as pd\n",
    "\n",
    "import seaborn as sns\n",
    "import glob\n",
    "import os\n",
    "\n",
    "sns.set(style=\"whitegrid\")\n",
    "#sns.set(style=\"ticks\", rc={\"lines.linewidth\": 0.7})\n",
    "sns.set(style=\"ticks\", rc={\"lines.linewidth\": 0.7})"
   ]
  },
  {
   "cell_type": "code",
   "execution_count": 2,
   "metadata": {},
   "outputs": [],
   "source": [
    "def get_data_frame_from_csv_list(csv_filenames):\n",
    "    df = []\n",
    "    for filename in csv_filenames:\n",
    "        data = pd.read_csv(filename)\n",
    "        data[\"Name\"] =  os.path.basename(filename).split('.')[0]\n",
    "        df.append(data)\n",
    "    return pd.concat(df, axis=0)\n",
    "\n",
    "def get_lineplots_dataframe(dataframe, savename=\"output\", size_in_inches=(7, 3), fontsize='medium', legend_location='lower right'):\n",
    "    g = sns.lineplot(x=\"Step\", y=\"Value\", hue=\"Name\", data=dataframe, ci=None, markers=False, legend=\"full\")\n",
    "    g.legend(fontsize=fontsize, loc=legend_location)\n",
    "    g.figure.set_size_inches(size_in_inches[0], size_in_inches[1])\n",
    "    g.set(xlabel=\"Epochs\", ylabel=\"mIoU\")\n",
    "    \n",
    "#     for n, line in enumerate(g.lines):\n",
    "#         x1 = line.get_xydata()[:,0]\n",
    "#         y1 = line.get_xydata()[:,1]\n",
    "#         plt.fill_between(x1, y1, color=sns.color_palette()[n], alpha=0.09, lw=0)\n",
    "    plt.grid(color=(0.8, 0.8, 0.8, 0.3), linestyle=\"-\", linewidth=0.5)\n",
    "    plt.tight_layout()\n",
    "    g.figure.savefig(savename + \".pdf\")"
   ]
  },
  {
   "cell_type": "code",
   "execution_count": 3,
   "metadata": {},
   "outputs": [],
   "source": [
    "def get_bar_plots(csv_file, savename=\"energy_out\", classify_tag=\"Energy MJ\"):\n",
    "    energy_df = pd.read_csv(csv_file)\n",
    "    e = sns.catplot(y=\"Name\", x=classify_tag, kind=\"bar\", data=energy_df, ci=0, height=3, aspect=4);\n",
    "    e.savefig(savename + \".svg\")\n",
    "# get_bar_plots(base_path + \"energy.csv\", savename=\"data_aug_energy\")"
   ]
  },
  {
   "cell_type": "code",
   "execution_count": 4,
   "metadata": {},
   "outputs": [],
   "source": [
    "def get_bar_plots_flops(csv_file, savename=\"energy_out\", classify_tag=\"Value\"):\n",
    "    energy_df = pd.read_csv(csv_file)\n",
    "    e = sns.catplot(y=\"Name\", x=classify_tag, kind=\"bar\", hue=\"Units\", data=energy_df, ci=0, height=3, aspect=4);\n",
    "    e.savefig(savename + \".svg\")\n",
    "# get_bar_plots_flops(base_path + \"GFLOPs_Inference.csv\", savename=\"data_aug_flops\", classify_tag=\"Value\")"
   ]
  },
  {
   "cell_type": "code",
   "execution_count": 5,
   "metadata": {},
   "outputs": [],
   "source": [
    "base_save_name = \"custom_optimizer\"\n",
    "base_path = \"/code/cabinet_star/experiments/segmentation/Optimization Logs/CSVs/CustomOptimizer/\"\n",
    "\n",
    "base_save_name = \"custom_lr\"\n",
    "base_path = \"/code/cabinet_star/experiments/segmentation/Optimization Logs/CSVs/LearningRateOptimization/\"\n",
    "\n",
    "csv_train_filenames = sorted(glob.glob(base_path + \"Train/\" + \"*csv\"))\n",
    "csv_val_filenames = sorted(glob.glob(base_path + \"Validation/\" + \"*csv\"))\n",
    "train_df = get_data_frame_from_csv_list(csv_train_filenames)\n",
    "val_df = get_data_frame_from_csv_list(csv_val_filenames)"
   ]
  },
  {
   "cell_type": "code",
   "execution_count": 6,
   "metadata": {},
   "outputs": [],
   "source": [
    "#get_lineplots_dataframe(train_df, savename=base_save_name + \"_train\")"
   ]
  },
  {
   "cell_type": "code",
   "execution_count": 7,
   "metadata": {},
   "outputs": [
    {
     "name": "stderr",
     "output_type": "stream",
     "text": [
      "/fast/anaconda3/lib/python3.7/site-packages/matplotlib/tight_layout.py:228: UserWarning: tight_layout : falling back to Agg renderer\n",
      "  warnings.warn(\"tight_layout : falling back to Agg renderer\")\n"
     ]
    }
   ],
   "source": [
    "get_lineplots_dataframe(val_df, savename=base_save_name + \"_val\")"
   ]
  },
  {
   "cell_type": "code",
   "execution_count": null,
   "metadata": {},
   "outputs": [],
   "source": [
    "\n",
    "\n",
    "\n",
    "\n"
   ]
  },
  {
   "cell_type": "code",
   "execution_count": 28,
   "metadata": {},
   "outputs": [
    {
     "name": "stderr",
     "output_type": "stream",
     "text": [
      "/fast/anaconda3/lib/python3.7/site-packages/matplotlib/tight_layout.py:228: UserWarning: tight_layout : falling back to Agg renderer\n",
      "  warnings.warn(\"tight_layout : falling back to Agg renderer\")\n"
     ]
    }
   ],
   "source": [
    "get_bar_plots(base_path + \"energy.csv\", savename=base_save_name + \"_energy\")"
   ]
  },
  {
   "cell_type": "code",
   "execution_count": 29,
   "metadata": {},
   "outputs": [
    {
     "name": "stderr",
     "output_type": "stream",
     "text": [
      "/fast/anaconda3/lib/python3.7/site-packages/matplotlib/tight_layout.py:228: UserWarning: tight_layout : falling back to Agg renderer\n",
      "  warnings.warn(\"tight_layout : falling back to Agg renderer\")\n"
     ]
    }
   ],
   "source": [
    "get_bar_plots_flops(base_path + \"GFLOPs_Inference.csv\", savename=base_save_name + \"_flops\", classify_tag=\"Value\")"
   ]
  },
  {
   "cell_type": "code",
   "execution_count": 30,
   "metadata": {},
   "outputs": [],
   "source": [
    "#get_bar_plots_flops(\"/volumes2/Optimization Logs/CSVs/GFLOPs_Inference.csv\", savename=\"/volumes1/my_internal\")"
   ]
  },
  {
   "cell_type": "code",
   "execution_count": 31,
   "metadata": {},
   "outputs": [
    {
     "data": {
      "text/plain": [
       "'/data/users/adrian.staniec/.cache/matplotlib'"
      ]
     },
     "execution_count": 31,
     "metadata": {},
     "output_type": "execute_result"
    }
   ],
   "source": [
    "matplotlib.font_manager.get_cachedir()"
   ]
  },
  {
   "cell_type": "code",
   "execution_count": null,
   "metadata": {},
   "outputs": [],
   "source": []
  },
  {
   "cell_type": "code",
   "execution_count": null,
   "metadata": {},
   "outputs": [],
   "source": []
  }
 ],
 "metadata": {
  "kernelspec": {
   "display_name": "Python 3",
   "language": "python",
   "name": "python3"
  },
  "language_info": {
   "codemirror_mode": {
    "name": "ipython",
    "version": 3
   },
   "file_extension": ".py",
   "mimetype": "text/x-python",
   "name": "python",
   "nbconvert_exporter": "python",
   "pygments_lexer": "ipython3",
   "version": "3.7.3"
  }
 },
 "nbformat": 4,
 "nbformat_minor": 4
}
